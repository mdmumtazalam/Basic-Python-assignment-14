{
 "cells": [
  {
   "cell_type": "code",
   "execution_count": null,
   "id": "03cd9df5",
   "metadata": {},
   "outputs": [],
   "source": [
    "1. What does RGBA stand for?\n",
    "\n",
    "Ans:RGBA(Red-Green-Blue-Alpha)"
   ]
  },
  {
   "cell_type": "code",
   "execution_count": null,
   "id": "f71f9778",
   "metadata": {},
   "outputs": [],
   "source": [
    "2. From the Pillow module, how do you get the RGBA value of any images?"
   ]
  },
  {
   "cell_type": "code",
   "execution_count": null,
   "id": "978873fb",
   "metadata": {},
   "outputs": [],
   "source": [
    "Ans: import the Image module from the Pillow library. from PIL import Image.\n",
    "Open any image and get the RAGBAG values. img = Image.open('image.png') rgba = img.convert(“RGBA”) ...\n",
    "Change the color. Data will be an Imaging Core object containing thousands of tuples of RGBA values. ...\n",
    "Store the changed image."
   ]
  },
  {
   "cell_type": "code",
   "execution_count": null,
   "id": "e11a4baf",
   "metadata": {},
   "outputs": [],
   "source": [
    "3. What is a box tuple, and how does it work?\n",
    "\n",
    "Ans: What is a box tuple in Python?\n",
    "Python Tuple is a collection of objects separated by commas. In some ways, a tuple is similar to a list in terms of indexing, nested objects, and repetition but a tuple is immutable, unlike lists which are mutable."
   ]
  },
  {
   "cell_type": "code",
   "execution_count": null,
   "id": "14de6864",
   "metadata": {},
   "outputs": [],
   "source": [
    "a = (3)\n",
    "print(type(a))\n",
    "<class 'int'>\n",
    "b = ([1,2])\n",
    "print(type(b))\n",
    "<class 'list'>"
   ]
  },
  {
   "cell_type": "code",
   "execution_count": null,
   "id": "c6762e51",
   "metadata": {},
   "outputs": [],
   "source": [
    "4. Use your image and load in notebook then, How can you find out the width and height of an Image object?"
   ]
  },
  {
   "cell_type": "code",
   "execution_count": null,
   "id": "561f1f12",
   "metadata": {},
   "outputs": [],
   "source": [
    "# import required module\n",
    "from PIL import Image\n",
    "  \n",
    "# get image\n",
    "filepath = \"geeksforgeeks.png\"\n",
    "img = Image.open(filepath)\n",
    "  \n",
    "# get width and height\n",
    "width = img.width\n",
    "height = img.height\n",
    "  \n",
    "# display width and height\n",
    "print(\"The height of the image is: \", height)\n",
    "print(\"The width of the image is: \", width)\n",
    "\n",
    "output\n",
    "height:135\n",
    "    width:600"
   ]
  },
  {
   "cell_type": "code",
   "execution_count": null,
   "id": "8d0763d3",
   "metadata": {},
   "outputs": [],
   "source": [
    "5. What method would you call to get Image object for a 100×100 image, excluding the lower-left quarter of it?"
   ]
  },
  {
   "cell_type": "markdown",
   "id": "9695eca4",
   "metadata": {},
   "source": [
    "from PIL import Image\n",
    "import numpy as np      \n",
    "  \n",
    "#Opening the image and converting \n",
    "#it to RGB color mode\n",
    "IMAGE_PATH => Path to the image\n",
    "img = Image.open(r\"IMAGE_PATH\").convert('RGB')\n",
    "  \n",
    "#Extracting the image data &\n",
    "#creating an numpy array out of it\n",
    "img_arr = np.array(img)\n",
    "  \n",
    "    #Turning the pixel values of the 100x100 pixels to black \n",
    "img_arr[0 : 100, 0 : 100] = (0, 0, 0)\n",
    "  \n",
    "    #Creating an image out of the previously modified array\n",
    "img = Image.fromarray(img_arr)\n",
    "  \n",
    "#Displaying the image\n",
    "img.show()"
   ]
  },
  {
   "cell_type": "markdown",
   "id": "c3707e10",
   "metadata": {},
   "source": [
    "#Opening the image and converting #it to RGB color mode IMAGE_PATH => Path to the image img = Image.open(r\"IMAGE_PATH\").convert('RGB')\n",
    "\n",
    "#Extracting the image data & #creating an numpy array out of it img_arr = np.array(img)\n",
    "img_arr = np.array(img)\n",
    "#Turning the pixel values of the 100x100 pixels to black \n",
    "img_arr[0 : 100, 0 : 100] = (0, 0, 0)\n",
    "#Creating an image out of the previously modified array\n",
    "img = Image.fromarray(img_arr)\n",
    "\n",
    "#Displaying the image img.show()"
   ]
  },
  {
   "cell_type": "code",
   "execution_count": null,
   "id": "2ae7b094",
   "metadata": {},
   "outputs": [],
   "source": [
    "6. After making changes to an Image object, how could you save it as an image file?"
   ]
  },
  {
   "cell_type": "code",
   "execution_count": null,
   "id": "1c9fd0a9",
   "metadata": {},
   "outputs": [],
   "source": [
    "# Importing Image module from PIL package \n",
    "from PIL import Image \n",
    "import PIL \n",
    "  \n",
    "# creating a image object (main image) \n",
    "im1 = Image.open(r\"C:\\Users\\System-Pc\\Desktop\\flower1.jpg\") \n",
    "  \n",
    "# save a image using extension\n",
    "im1 = im1.save(\"geeks.jpg\")"
   ]
  },
  {
   "cell_type": "code",
   "execution_count": null,
   "id": "2a3e81ba",
   "metadata": {},
   "outputs": [],
   "source": [
    "7. What module contains Pillow’s shape-drawing code?"
   ]
  },
  {
   "cell_type": "code",
   "execution_count": null,
   "id": "849baa52",
   "metadata": {},
   "outputs": [],
   "source": [
    "ImageDraw\n",
    "The 'ImageDraw' module provides simple 2D graphics support for Image Object. Generally, we use this module to create new images, annotate or retouch existing images and to generate graphics on the fly for web use. The graphics commands support the drawing of shapes and annotation of text."
   ]
  },
  {
   "cell_type": "markdown",
   "id": "cb2fa9d4",
   "metadata": {},
   "source": [
    "ef img2sketch(photo, k_size):\n",
    "    #Read Image\n",
    "    img=cv2.imread(photo)\n",
    "    \n",
    "    # Convert to Grey Image\n",
    "    grey_img=cv2.cvtColor(img, cv2.COLOR_BGR2GRAY)\n",
    "\n",
    "    # Invert Image\n",
    "    invert_img=cv2.bitwise_not(grey_img)\n",
    "    #invert_img=255-grey_img\n",
    "\n",
    "    # Blur image\n",
    "    blur_img=cv2.GaussianBlur(invert_img, (k_size,k_size),0)\n",
    "\n",
    "    # Invert Blurred Image\n",
    "    invblur_img=cv2.bitwise_not(blur_img)\n",
    "    #invblur_img=255-blur_img\n",
    "\n",
    "    # Sketch Image\n",
    "    sketch_img=cv2.divide(grey_img,invblur_img, scale=256.0)\n",
    "\n",
    "    # Save Sketch \n",
    "    cv2.imwrite('sketch.png', sketch_img)\n",
    "\n",
    "    # Display sketch\n",
    "    cv2.imshow('sketch image',sketch_img)\n",
    "    cv2.waitKey(0)\n",
    "    cv2.destroyAllWindows()\n",
    "    \n",
    "#Function call\n",
    "img2sketch(photo='image.png', k_size=7)"
   ]
  }
 ],
 "metadata": {
  "kernelspec": {
   "display_name": "Python 3 (ipykernel)",
   "language": "python",
   "name": "python3"
  },
  "language_info": {
   "codemirror_mode": {
    "name": "ipython",
    "version": 3
   },
   "file_extension": ".py",
   "mimetype": "text/x-python",
   "name": "python",
   "nbconvert_exporter": "python",
   "pygments_lexer": "ipython3",
   "version": "3.9.12"
  }
 },
 "nbformat": 4,
 "nbformat_minor": 5
}
